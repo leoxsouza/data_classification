{
  "cells": [
    {
      "cell_type": "markdown",
      "metadata": {
        "id": "BI5OWCpFqKkp"
      },
      "source": [
        "# Laboratório 1"
      ]
    },
    {
      "cell_type": "markdown",
      "metadata": {
        "id": "6VSUIyPKqM4w"
      },
      "source": [
        "Neste laboratório, vamos aplicar um pouco da teoria e prática que vimos ao longo da primeira semana da disciplina.\n",
        "\n",
        "Para isso, vamos utilizar o conjunto de dados ``College``, disponível [aqui](https://www.statlearning.com/resources-python).\n",
        "\n",
        "O conjunto de dados contém informações sobre várias faculdades e universidades dos Estados Unidos. O significado de cada informação não é essencial para este exercício. Mas alguns exemplos de informações contidas no conjunto de dados são:"
      ]
    },
    {
      "cell_type": "markdown",
      "metadata": {
        "id": "YHfRWE55tJD_"
      },
      "source": [
        "- `Private`: Indica se a instituição é pública ou privada\n",
        "- `Apps`: Número de aplicações recebidas\n",
        "- `Accept`: Número de aplicações aceitas\n",
        "- `Enroll`: Número de novos alunos matriculados\n",
        "- `Top10perc`: Percentual de novos alunos do top 10% de turmas do ensino médio\n",
        "- `Top25perc`: Percentual de novos alunos do top 25% de turmas do ensino médio\n",
        "- ..."
      ]
    },
    {
      "cell_type": "markdown",
      "metadata": {
        "id": "TKZZ4jXiqxDS"
      },
      "source": [
        "## Obtenção dos dados"
      ]
    },
    {
      "cell_type": "markdown",
      "metadata": {
        "id": "TgmabUVmqzMa"
      },
      "source": [
        "Para obter o conjunto de dados, execute o comando abaixo. O arquivo ``College.csv`` será diretamente acessível por meio desse *notebook*.\n",
        "\n",
        "**Observação:** caso a sessão do *notebook* seja interrompida, será necessário baixar o conjunto de dados novamente."
      ]
    },
    {
      "cell_type": "code",
      "execution_count": null,
      "metadata": {
        "colab": {
          "base_uri": "https://localhost:8080/"
        },
        "id": "g7Kk5-DkeW78",
        "outputId": "363d772e-ef90-48dc-d4e0-4bf2c586c12d"
      },
      "outputs": [
        {
          "name": "stderr",
          "output_type": "stream",
          "text": [
            "'wget' n�o � reconhecido como um comando interno\n",
            "ou externo, um programa oper�vel ou um arquivo em lotes.\n"
          ]
        }
      ],
      "source": [
        "!wget https://www.statlearning.com/s/College.csv\n",
        "\n",
        "#Fiz o download do arquivo manualmente, pois estou fazendo o lab pelo vscode no windows"
      ]
    },
    {
      "cell_type": "markdown",
      "metadata": {
        "id": "IpNQK_J_wSMh"
      },
      "source": [
        "**ATENÇÃO:** você não deve remover ou adicionar células no restante deste *notebook*.\n",
        "\n",
        "Sempre escreva suas respostas nas células indicadas!"
      ]
    },
    {
      "cell_type": "markdown",
      "metadata": {
        "id": "VjGpvmVsrLhS"
      },
      "source": [
        "## Parte 1: Leitura e Preparação dos Dados [45 pontos - Todos os itens têm o mesmo valor]"
      ]
    },
    {
      "cell_type": "markdown",
      "metadata": {
        "id": "PvRQGFmP14S8"
      },
      "source": [
        "### Item 1.1"
      ]
    },
    {
      "cell_type": "markdown",
      "metadata": {
        "id": "Zv-Un-PYskpe"
      },
      "source": [
        "Utilizando a biblioteca ``pandas``, faça a leitura do arquivo ``College.csv``.\n",
        "\n",
        "**Dica:** leia sobre a função [``read_csv``](https://pandas.pydata.org/docs/reference/api/pandas.read_csv.html)."
      ]
    },
    {
      "cell_type": "code",
      "execution_count": 1,
      "metadata": {
        "id": "A9VenQliv36h"
      },
      "outputs": [
        {
          "data": {
            "text/html": [
              "<div>\n",
              "<style scoped>\n",
              "    .dataframe tbody tr th:only-of-type {\n",
              "        vertical-align: middle;\n",
              "    }\n",
              "\n",
              "    .dataframe tbody tr th {\n",
              "        vertical-align: top;\n",
              "    }\n",
              "\n",
              "    .dataframe thead th {\n",
              "        text-align: right;\n",
              "    }\n",
              "</style>\n",
              "<table border=\"1\" class=\"dataframe\">\n",
              "  <thead>\n",
              "    <tr style=\"text-align: right;\">\n",
              "      <th></th>\n",
              "      <th>Unnamed: 0</th>\n",
              "      <th>Private</th>\n",
              "      <th>Apps</th>\n",
              "      <th>Accept</th>\n",
              "      <th>Enroll</th>\n",
              "      <th>Top10perc</th>\n",
              "      <th>Top25perc</th>\n",
              "      <th>F.Undergrad</th>\n",
              "      <th>P.Undergrad</th>\n",
              "      <th>Outstate</th>\n",
              "      <th>Room.Board</th>\n",
              "      <th>Books</th>\n",
              "      <th>Personal</th>\n",
              "      <th>PhD</th>\n",
              "      <th>Terminal</th>\n",
              "      <th>S.F.Ratio</th>\n",
              "      <th>perc.alumni</th>\n",
              "      <th>Expend</th>\n",
              "      <th>Grad.Rate</th>\n",
              "    </tr>\n",
              "  </thead>\n",
              "  <tbody>\n",
              "    <tr>\n",
              "      <th>0</th>\n",
              "      <td>Abilene Christian University</td>\n",
              "      <td>Yes</td>\n",
              "      <td>1660</td>\n",
              "      <td>1232</td>\n",
              "      <td>721</td>\n",
              "      <td>23</td>\n",
              "      <td>52</td>\n",
              "      <td>2885</td>\n",
              "      <td>537</td>\n",
              "      <td>7440</td>\n",
              "      <td>3300</td>\n",
              "      <td>450</td>\n",
              "      <td>2200</td>\n",
              "      <td>70</td>\n",
              "      <td>78</td>\n",
              "      <td>18.1</td>\n",
              "      <td>12</td>\n",
              "      <td>7041</td>\n",
              "      <td>60</td>\n",
              "    </tr>\n",
              "    <tr>\n",
              "      <th>1</th>\n",
              "      <td>Adelphi University</td>\n",
              "      <td>Yes</td>\n",
              "      <td>2186</td>\n",
              "      <td>1924</td>\n",
              "      <td>512</td>\n",
              "      <td>16</td>\n",
              "      <td>29</td>\n",
              "      <td>2683</td>\n",
              "      <td>1227</td>\n",
              "      <td>12280</td>\n",
              "      <td>6450</td>\n",
              "      <td>750</td>\n",
              "      <td>1500</td>\n",
              "      <td>29</td>\n",
              "      <td>30</td>\n",
              "      <td>12.2</td>\n",
              "      <td>16</td>\n",
              "      <td>10527</td>\n",
              "      <td>56</td>\n",
              "    </tr>\n",
              "    <tr>\n",
              "      <th>2</th>\n",
              "      <td>Adrian College</td>\n",
              "      <td>Yes</td>\n",
              "      <td>1428</td>\n",
              "      <td>1097</td>\n",
              "      <td>336</td>\n",
              "      <td>22</td>\n",
              "      <td>50</td>\n",
              "      <td>1036</td>\n",
              "      <td>99</td>\n",
              "      <td>11250</td>\n",
              "      <td>3750</td>\n",
              "      <td>400</td>\n",
              "      <td>1165</td>\n",
              "      <td>53</td>\n",
              "      <td>66</td>\n",
              "      <td>12.9</td>\n",
              "      <td>30</td>\n",
              "      <td>8735</td>\n",
              "      <td>54</td>\n",
              "    </tr>\n",
              "    <tr>\n",
              "      <th>3</th>\n",
              "      <td>Agnes Scott College</td>\n",
              "      <td>Yes</td>\n",
              "      <td>417</td>\n",
              "      <td>349</td>\n",
              "      <td>137</td>\n",
              "      <td>60</td>\n",
              "      <td>89</td>\n",
              "      <td>510</td>\n",
              "      <td>63</td>\n",
              "      <td>12960</td>\n",
              "      <td>5450</td>\n",
              "      <td>450</td>\n",
              "      <td>875</td>\n",
              "      <td>92</td>\n",
              "      <td>97</td>\n",
              "      <td>7.7</td>\n",
              "      <td>37</td>\n",
              "      <td>19016</td>\n",
              "      <td>59</td>\n",
              "    </tr>\n",
              "    <tr>\n",
              "      <th>4</th>\n",
              "      <td>Alaska Pacific University</td>\n",
              "      <td>Yes</td>\n",
              "      <td>193</td>\n",
              "      <td>146</td>\n",
              "      <td>55</td>\n",
              "      <td>16</td>\n",
              "      <td>44</td>\n",
              "      <td>249</td>\n",
              "      <td>869</td>\n",
              "      <td>7560</td>\n",
              "      <td>4120</td>\n",
              "      <td>800</td>\n",
              "      <td>1500</td>\n",
              "      <td>76</td>\n",
              "      <td>72</td>\n",
              "      <td>11.9</td>\n",
              "      <td>2</td>\n",
              "      <td>10922</td>\n",
              "      <td>15</td>\n",
              "    </tr>\n",
              "  </tbody>\n",
              "</table>\n",
              "</div>"
            ],
            "text/plain": [
              "                     Unnamed: 0 Private  Apps  Accept  Enroll  Top10perc  \\\n",
              "0  Abilene Christian University     Yes  1660    1232     721         23   \n",
              "1            Adelphi University     Yes  2186    1924     512         16   \n",
              "2                Adrian College     Yes  1428    1097     336         22   \n",
              "3           Agnes Scott College     Yes   417     349     137         60   \n",
              "4     Alaska Pacific University     Yes   193     146      55         16   \n",
              "\n",
              "   Top25perc  F.Undergrad  P.Undergrad  Outstate  Room.Board  Books  Personal  \\\n",
              "0         52         2885          537      7440        3300    450      2200   \n",
              "1         29         2683         1227     12280        6450    750      1500   \n",
              "2         50         1036           99     11250        3750    400      1165   \n",
              "3         89          510           63     12960        5450    450       875   \n",
              "4         44          249          869      7560        4120    800      1500   \n",
              "\n",
              "   PhD  Terminal  S.F.Ratio  perc.alumni  Expend  Grad.Rate  \n",
              "0   70        78       18.1           12    7041         60  \n",
              "1   29        30       12.2           16   10527         56  \n",
              "2   53        66       12.9           30    8735         54  \n",
              "3   92        97        7.7           37   19016         59  \n",
              "4   76        72       11.9            2   10922         15  "
            ]
          },
          "execution_count": 1,
          "metadata": {},
          "output_type": "execute_result"
        }
      ],
      "source": [
        "import pandas as pd\n",
        "\n",
        "# Escreva sua resposta aqui\n",
        "\n",
        "read_csv = pd.read_csv('College.csv')\n",
        "read_csv.head()\n"
      ]
    },
    {
      "cell_type": "markdown",
      "metadata": {
        "id": "hzb9gcr11-K7"
      },
      "source": [
        "### Item 1.2"
      ]
    },
    {
      "cell_type": "markdown",
      "metadata": {
        "id": "31wN_uCWuyt7"
      },
      "source": [
        "Renomeie a primeira coluna do *Data Frame* (aquela que contém os nomes das instituições) para ``College``.\n",
        "\n",
        "**Dica:** leia sobre a função [``rename``](https://pandas.pydata.org/docs/reference/api/pandas.DataFrame.rename.html)."
      ]
    },
    {
      "cell_type": "code",
      "execution_count": 2,
      "metadata": {
        "id": "EYnijvvbwFyZ"
      },
      "outputs": [
        {
          "data": {
            "text/html": [
              "<div>\n",
              "<style scoped>\n",
              "    .dataframe tbody tr th:only-of-type {\n",
              "        vertical-align: middle;\n",
              "    }\n",
              "\n",
              "    .dataframe tbody tr th {\n",
              "        vertical-align: top;\n",
              "    }\n",
              "\n",
              "    .dataframe thead th {\n",
              "        text-align: right;\n",
              "    }\n",
              "</style>\n",
              "<table border=\"1\" class=\"dataframe\">\n",
              "  <thead>\n",
              "    <tr style=\"text-align: right;\">\n",
              "      <th></th>\n",
              "      <th>College</th>\n",
              "      <th>Private</th>\n",
              "      <th>Apps</th>\n",
              "      <th>Accept</th>\n",
              "      <th>Enroll</th>\n",
              "      <th>Top10perc</th>\n",
              "      <th>Top25perc</th>\n",
              "      <th>F.Undergrad</th>\n",
              "      <th>P.Undergrad</th>\n",
              "      <th>Outstate</th>\n",
              "      <th>Room.Board</th>\n",
              "      <th>Books</th>\n",
              "      <th>Personal</th>\n",
              "      <th>PhD</th>\n",
              "      <th>Terminal</th>\n",
              "      <th>S.F.Ratio</th>\n",
              "      <th>perc.alumni</th>\n",
              "      <th>Expend</th>\n",
              "      <th>Grad.Rate</th>\n",
              "    </tr>\n",
              "  </thead>\n",
              "  <tbody>\n",
              "    <tr>\n",
              "      <th>0</th>\n",
              "      <td>Abilene Christian University</td>\n",
              "      <td>Yes</td>\n",
              "      <td>1660</td>\n",
              "      <td>1232</td>\n",
              "      <td>721</td>\n",
              "      <td>23</td>\n",
              "      <td>52</td>\n",
              "      <td>2885</td>\n",
              "      <td>537</td>\n",
              "      <td>7440</td>\n",
              "      <td>3300</td>\n",
              "      <td>450</td>\n",
              "      <td>2200</td>\n",
              "      <td>70</td>\n",
              "      <td>78</td>\n",
              "      <td>18.1</td>\n",
              "      <td>12</td>\n",
              "      <td>7041</td>\n",
              "      <td>60</td>\n",
              "    </tr>\n",
              "    <tr>\n",
              "      <th>1</th>\n",
              "      <td>Adelphi University</td>\n",
              "      <td>Yes</td>\n",
              "      <td>2186</td>\n",
              "      <td>1924</td>\n",
              "      <td>512</td>\n",
              "      <td>16</td>\n",
              "      <td>29</td>\n",
              "      <td>2683</td>\n",
              "      <td>1227</td>\n",
              "      <td>12280</td>\n",
              "      <td>6450</td>\n",
              "      <td>750</td>\n",
              "      <td>1500</td>\n",
              "      <td>29</td>\n",
              "      <td>30</td>\n",
              "      <td>12.2</td>\n",
              "      <td>16</td>\n",
              "      <td>10527</td>\n",
              "      <td>56</td>\n",
              "    </tr>\n",
              "    <tr>\n",
              "      <th>2</th>\n",
              "      <td>Adrian College</td>\n",
              "      <td>Yes</td>\n",
              "      <td>1428</td>\n",
              "      <td>1097</td>\n",
              "      <td>336</td>\n",
              "      <td>22</td>\n",
              "      <td>50</td>\n",
              "      <td>1036</td>\n",
              "      <td>99</td>\n",
              "      <td>11250</td>\n",
              "      <td>3750</td>\n",
              "      <td>400</td>\n",
              "      <td>1165</td>\n",
              "      <td>53</td>\n",
              "      <td>66</td>\n",
              "      <td>12.9</td>\n",
              "      <td>30</td>\n",
              "      <td>8735</td>\n",
              "      <td>54</td>\n",
              "    </tr>\n",
              "    <tr>\n",
              "      <th>3</th>\n",
              "      <td>Agnes Scott College</td>\n",
              "      <td>Yes</td>\n",
              "      <td>417</td>\n",
              "      <td>349</td>\n",
              "      <td>137</td>\n",
              "      <td>60</td>\n",
              "      <td>89</td>\n",
              "      <td>510</td>\n",
              "      <td>63</td>\n",
              "      <td>12960</td>\n",
              "      <td>5450</td>\n",
              "      <td>450</td>\n",
              "      <td>875</td>\n",
              "      <td>92</td>\n",
              "      <td>97</td>\n",
              "      <td>7.7</td>\n",
              "      <td>37</td>\n",
              "      <td>19016</td>\n",
              "      <td>59</td>\n",
              "    </tr>\n",
              "    <tr>\n",
              "      <th>4</th>\n",
              "      <td>Alaska Pacific University</td>\n",
              "      <td>Yes</td>\n",
              "      <td>193</td>\n",
              "      <td>146</td>\n",
              "      <td>55</td>\n",
              "      <td>16</td>\n",
              "      <td>44</td>\n",
              "      <td>249</td>\n",
              "      <td>869</td>\n",
              "      <td>7560</td>\n",
              "      <td>4120</td>\n",
              "      <td>800</td>\n",
              "      <td>1500</td>\n",
              "      <td>76</td>\n",
              "      <td>72</td>\n",
              "      <td>11.9</td>\n",
              "      <td>2</td>\n",
              "      <td>10922</td>\n",
              "      <td>15</td>\n",
              "    </tr>\n",
              "  </tbody>\n",
              "</table>\n",
              "</div>"
            ],
            "text/plain": [
              "                        College Private  Apps  Accept  Enroll  Top10perc  \\\n",
              "0  Abilene Christian University     Yes  1660    1232     721         23   \n",
              "1            Adelphi University     Yes  2186    1924     512         16   \n",
              "2                Adrian College     Yes  1428    1097     336         22   \n",
              "3           Agnes Scott College     Yes   417     349     137         60   \n",
              "4     Alaska Pacific University     Yes   193     146      55         16   \n",
              "\n",
              "   Top25perc  F.Undergrad  P.Undergrad  Outstate  Room.Board  Books  Personal  \\\n",
              "0         52         2885          537      7440        3300    450      2200   \n",
              "1         29         2683         1227     12280        6450    750      1500   \n",
              "2         50         1036           99     11250        3750    400      1165   \n",
              "3         89          510           63     12960        5450    450       875   \n",
              "4         44          249          869      7560        4120    800      1500   \n",
              "\n",
              "   PhD  Terminal  S.F.Ratio  perc.alumni  Expend  Grad.Rate  \n",
              "0   70        78       18.1           12    7041         60  \n",
              "1   29        30       12.2           16   10527         56  \n",
              "2   53        66       12.9           30    8735         54  \n",
              "3   92        97        7.7           37   19016         59  \n",
              "4   76        72       11.9            2   10922         15  "
            ]
          },
          "execution_count": 2,
          "metadata": {},
          "output_type": "execute_result"
        }
      ],
      "source": [
        "# Escreva sua resposta aqui\n",
        "read_csv.rename(columns = {'Unnamed: 0':'College'}, inplace = True)\n",
        "read_csv.head()\n",
        "\n",
        "\n"
      ]
    },
    {
      "cell_type": "markdown",
      "metadata": {
        "id": "zcTPnr8i2Bdb"
      },
      "source": [
        "### Item 1.3"
      ]
    },
    {
      "cell_type": "markdown",
      "metadata": {
        "id": "UvCjHbQmvKJ8"
      },
      "source": [
        "Faça com que a coluna ``College`` se torne o índice do *Data Frame*.\n",
        "\n",
        "**Dica:** Leia sobre a função [`set_index`](https://pandas.pydata.org/docs/reference/api/pandas.DataFrame.set_index.html)."
      ]
    },
    {
      "cell_type": "code",
      "execution_count": 3,
      "metadata": {
        "id": "kkt3_pdtwKxR"
      },
      "outputs": [
        {
          "data": {
            "text/html": [
              "<div>\n",
              "<style scoped>\n",
              "    .dataframe tbody tr th:only-of-type {\n",
              "        vertical-align: middle;\n",
              "    }\n",
              "\n",
              "    .dataframe tbody tr th {\n",
              "        vertical-align: top;\n",
              "    }\n",
              "\n",
              "    .dataframe thead th {\n",
              "        text-align: right;\n",
              "    }\n",
              "</style>\n",
              "<table border=\"1\" class=\"dataframe\">\n",
              "  <thead>\n",
              "    <tr style=\"text-align: right;\">\n",
              "      <th></th>\n",
              "      <th>Private</th>\n",
              "      <th>Apps</th>\n",
              "      <th>Accept</th>\n",
              "      <th>Enroll</th>\n",
              "      <th>Top10perc</th>\n",
              "      <th>Top25perc</th>\n",
              "      <th>F.Undergrad</th>\n",
              "      <th>P.Undergrad</th>\n",
              "      <th>Outstate</th>\n",
              "      <th>Room.Board</th>\n",
              "      <th>Books</th>\n",
              "      <th>Personal</th>\n",
              "      <th>PhD</th>\n",
              "      <th>Terminal</th>\n",
              "      <th>S.F.Ratio</th>\n",
              "      <th>perc.alumni</th>\n",
              "      <th>Expend</th>\n",
              "      <th>Grad.Rate</th>\n",
              "    </tr>\n",
              "    <tr>\n",
              "      <th>College</th>\n",
              "      <th></th>\n",
              "      <th></th>\n",
              "      <th></th>\n",
              "      <th></th>\n",
              "      <th></th>\n",
              "      <th></th>\n",
              "      <th></th>\n",
              "      <th></th>\n",
              "      <th></th>\n",
              "      <th></th>\n",
              "      <th></th>\n",
              "      <th></th>\n",
              "      <th></th>\n",
              "      <th></th>\n",
              "      <th></th>\n",
              "      <th></th>\n",
              "      <th></th>\n",
              "      <th></th>\n",
              "    </tr>\n",
              "  </thead>\n",
              "  <tbody>\n",
              "    <tr>\n",
              "      <th>Abilene Christian University</th>\n",
              "      <td>Yes</td>\n",
              "      <td>1660</td>\n",
              "      <td>1232</td>\n",
              "      <td>721</td>\n",
              "      <td>23</td>\n",
              "      <td>52</td>\n",
              "      <td>2885</td>\n",
              "      <td>537</td>\n",
              "      <td>7440</td>\n",
              "      <td>3300</td>\n",
              "      <td>450</td>\n",
              "      <td>2200</td>\n",
              "      <td>70</td>\n",
              "      <td>78</td>\n",
              "      <td>18.1</td>\n",
              "      <td>12</td>\n",
              "      <td>7041</td>\n",
              "      <td>60</td>\n",
              "    </tr>\n",
              "    <tr>\n",
              "      <th>Adelphi University</th>\n",
              "      <td>Yes</td>\n",
              "      <td>2186</td>\n",
              "      <td>1924</td>\n",
              "      <td>512</td>\n",
              "      <td>16</td>\n",
              "      <td>29</td>\n",
              "      <td>2683</td>\n",
              "      <td>1227</td>\n",
              "      <td>12280</td>\n",
              "      <td>6450</td>\n",
              "      <td>750</td>\n",
              "      <td>1500</td>\n",
              "      <td>29</td>\n",
              "      <td>30</td>\n",
              "      <td>12.2</td>\n",
              "      <td>16</td>\n",
              "      <td>10527</td>\n",
              "      <td>56</td>\n",
              "    </tr>\n",
              "    <tr>\n",
              "      <th>Adrian College</th>\n",
              "      <td>Yes</td>\n",
              "      <td>1428</td>\n",
              "      <td>1097</td>\n",
              "      <td>336</td>\n",
              "      <td>22</td>\n",
              "      <td>50</td>\n",
              "      <td>1036</td>\n",
              "      <td>99</td>\n",
              "      <td>11250</td>\n",
              "      <td>3750</td>\n",
              "      <td>400</td>\n",
              "      <td>1165</td>\n",
              "      <td>53</td>\n",
              "      <td>66</td>\n",
              "      <td>12.9</td>\n",
              "      <td>30</td>\n",
              "      <td>8735</td>\n",
              "      <td>54</td>\n",
              "    </tr>\n",
              "    <tr>\n",
              "      <th>Agnes Scott College</th>\n",
              "      <td>Yes</td>\n",
              "      <td>417</td>\n",
              "      <td>349</td>\n",
              "      <td>137</td>\n",
              "      <td>60</td>\n",
              "      <td>89</td>\n",
              "      <td>510</td>\n",
              "      <td>63</td>\n",
              "      <td>12960</td>\n",
              "      <td>5450</td>\n",
              "      <td>450</td>\n",
              "      <td>875</td>\n",
              "      <td>92</td>\n",
              "      <td>97</td>\n",
              "      <td>7.7</td>\n",
              "      <td>37</td>\n",
              "      <td>19016</td>\n",
              "      <td>59</td>\n",
              "    </tr>\n",
              "    <tr>\n",
              "      <th>Alaska Pacific University</th>\n",
              "      <td>Yes</td>\n",
              "      <td>193</td>\n",
              "      <td>146</td>\n",
              "      <td>55</td>\n",
              "      <td>16</td>\n",
              "      <td>44</td>\n",
              "      <td>249</td>\n",
              "      <td>869</td>\n",
              "      <td>7560</td>\n",
              "      <td>4120</td>\n",
              "      <td>800</td>\n",
              "      <td>1500</td>\n",
              "      <td>76</td>\n",
              "      <td>72</td>\n",
              "      <td>11.9</td>\n",
              "      <td>2</td>\n",
              "      <td>10922</td>\n",
              "      <td>15</td>\n",
              "    </tr>\n",
              "  </tbody>\n",
              "</table>\n",
              "</div>"
            ],
            "text/plain": [
              "                             Private  Apps  Accept  Enroll  Top10perc  \\\n",
              "College                                                                 \n",
              "Abilene Christian University     Yes  1660    1232     721         23   \n",
              "Adelphi University               Yes  2186    1924     512         16   \n",
              "Adrian College                   Yes  1428    1097     336         22   \n",
              "Agnes Scott College              Yes   417     349     137         60   \n",
              "Alaska Pacific University        Yes   193     146      55         16   \n",
              "\n",
              "                              Top25perc  F.Undergrad  P.Undergrad  Outstate  \\\n",
              "College                                                                       \n",
              "Abilene Christian University         52         2885          537      7440   \n",
              "Adelphi University                   29         2683         1227     12280   \n",
              "Adrian College                       50         1036           99     11250   \n",
              "Agnes Scott College                  89          510           63     12960   \n",
              "Alaska Pacific University            44          249          869      7560   \n",
              "\n",
              "                              Room.Board  Books  Personal  PhD  Terminal  \\\n",
              "College                                                                    \n",
              "Abilene Christian University        3300    450      2200   70        78   \n",
              "Adelphi University                  6450    750      1500   29        30   \n",
              "Adrian College                      3750    400      1165   53        66   \n",
              "Agnes Scott College                 5450    450       875   92        97   \n",
              "Alaska Pacific University           4120    800      1500   76        72   \n",
              "\n",
              "                              S.F.Ratio  perc.alumni  Expend  Grad.Rate  \n",
              "College                                                                  \n",
              "Abilene Christian University       18.1           12    7041         60  \n",
              "Adelphi University                 12.2           16   10527         56  \n",
              "Adrian College                     12.9           30    8735         54  \n",
              "Agnes Scott College                 7.7           37   19016         59  \n",
              "Alaska Pacific University          11.9            2   10922         15  "
            ]
          },
          "execution_count": 3,
          "metadata": {},
          "output_type": "execute_result"
        }
      ],
      "source": [
        "# Escreva sua resposta aqui\n",
        "\n",
        "read_csv.set_index('College', inplace = True)\n",
        "\n",
        "read_csv.head()\n",
        "\n",
        "\n"
      ]
    },
    {
      "cell_type": "markdown",
      "metadata": {
        "id": "FBFJ098F2E2D"
      },
      "source": [
        "### Item 1.4"
      ]
    },
    {
      "cell_type": "markdown",
      "metadata": {
        "id": "H21V2A3CwrqY"
      },
      "source": [
        "Crie uma nova coluna para o *Data Frame* da seguinte maneira.\n",
        "A nova coluna deve ter nome ``Good School``. Cada linha dessa coluna deve ter valor 1 caso a escola referente a linha tenha ``Top10perc`` > 25 e 0 em caso contrário."
      ]
    },
    {
      "cell_type": "code",
      "execution_count": 4,
      "metadata": {
        "id": "3GSFH_vYfmrS"
      },
      "outputs": [
        {
          "data": {
            "text/html": [
              "<div>\n",
              "<style scoped>\n",
              "    .dataframe tbody tr th:only-of-type {\n",
              "        vertical-align: middle;\n",
              "    }\n",
              "\n",
              "    .dataframe tbody tr th {\n",
              "        vertical-align: top;\n",
              "    }\n",
              "\n",
              "    .dataframe thead th {\n",
              "        text-align: right;\n",
              "    }\n",
              "</style>\n",
              "<table border=\"1\" class=\"dataframe\">\n",
              "  <thead>\n",
              "    <tr style=\"text-align: right;\">\n",
              "      <th></th>\n",
              "      <th>Private</th>\n",
              "      <th>Apps</th>\n",
              "      <th>Accept</th>\n",
              "      <th>Enroll</th>\n",
              "      <th>Top10perc</th>\n",
              "      <th>Top25perc</th>\n",
              "      <th>F.Undergrad</th>\n",
              "      <th>P.Undergrad</th>\n",
              "      <th>Outstate</th>\n",
              "      <th>Room.Board</th>\n",
              "      <th>Books</th>\n",
              "      <th>Personal</th>\n",
              "      <th>PhD</th>\n",
              "      <th>Terminal</th>\n",
              "      <th>S.F.Ratio</th>\n",
              "      <th>perc.alumni</th>\n",
              "      <th>Expend</th>\n",
              "      <th>Grad.Rate</th>\n",
              "      <th>Good School</th>\n",
              "    </tr>\n",
              "    <tr>\n",
              "      <th>College</th>\n",
              "      <th></th>\n",
              "      <th></th>\n",
              "      <th></th>\n",
              "      <th></th>\n",
              "      <th></th>\n",
              "      <th></th>\n",
              "      <th></th>\n",
              "      <th></th>\n",
              "      <th></th>\n",
              "      <th></th>\n",
              "      <th></th>\n",
              "      <th></th>\n",
              "      <th></th>\n",
              "      <th></th>\n",
              "      <th></th>\n",
              "      <th></th>\n",
              "      <th></th>\n",
              "      <th></th>\n",
              "      <th></th>\n",
              "    </tr>\n",
              "  </thead>\n",
              "  <tbody>\n",
              "    <tr>\n",
              "      <th>Abilene Christian University</th>\n",
              "      <td>Yes</td>\n",
              "      <td>1660</td>\n",
              "      <td>1232</td>\n",
              "      <td>721</td>\n",
              "      <td>23</td>\n",
              "      <td>52</td>\n",
              "      <td>2885</td>\n",
              "      <td>537</td>\n",
              "      <td>7440</td>\n",
              "      <td>3300</td>\n",
              "      <td>450</td>\n",
              "      <td>2200</td>\n",
              "      <td>70</td>\n",
              "      <td>78</td>\n",
              "      <td>18.1</td>\n",
              "      <td>12</td>\n",
              "      <td>7041</td>\n",
              "      <td>60</td>\n",
              "      <td>0</td>\n",
              "    </tr>\n",
              "    <tr>\n",
              "      <th>Adelphi University</th>\n",
              "      <td>Yes</td>\n",
              "      <td>2186</td>\n",
              "      <td>1924</td>\n",
              "      <td>512</td>\n",
              "      <td>16</td>\n",
              "      <td>29</td>\n",
              "      <td>2683</td>\n",
              "      <td>1227</td>\n",
              "      <td>12280</td>\n",
              "      <td>6450</td>\n",
              "      <td>750</td>\n",
              "      <td>1500</td>\n",
              "      <td>29</td>\n",
              "      <td>30</td>\n",
              "      <td>12.2</td>\n",
              "      <td>16</td>\n",
              "      <td>10527</td>\n",
              "      <td>56</td>\n",
              "      <td>0</td>\n",
              "    </tr>\n",
              "    <tr>\n",
              "      <th>Adrian College</th>\n",
              "      <td>Yes</td>\n",
              "      <td>1428</td>\n",
              "      <td>1097</td>\n",
              "      <td>336</td>\n",
              "      <td>22</td>\n",
              "      <td>50</td>\n",
              "      <td>1036</td>\n",
              "      <td>99</td>\n",
              "      <td>11250</td>\n",
              "      <td>3750</td>\n",
              "      <td>400</td>\n",
              "      <td>1165</td>\n",
              "      <td>53</td>\n",
              "      <td>66</td>\n",
              "      <td>12.9</td>\n",
              "      <td>30</td>\n",
              "      <td>8735</td>\n",
              "      <td>54</td>\n",
              "      <td>0</td>\n",
              "    </tr>\n",
              "    <tr>\n",
              "      <th>Agnes Scott College</th>\n",
              "      <td>Yes</td>\n",
              "      <td>417</td>\n",
              "      <td>349</td>\n",
              "      <td>137</td>\n",
              "      <td>60</td>\n",
              "      <td>89</td>\n",
              "      <td>510</td>\n",
              "      <td>63</td>\n",
              "      <td>12960</td>\n",
              "      <td>5450</td>\n",
              "      <td>450</td>\n",
              "      <td>875</td>\n",
              "      <td>92</td>\n",
              "      <td>97</td>\n",
              "      <td>7.7</td>\n",
              "      <td>37</td>\n",
              "      <td>19016</td>\n",
              "      <td>59</td>\n",
              "      <td>1</td>\n",
              "    </tr>\n",
              "    <tr>\n",
              "      <th>Alaska Pacific University</th>\n",
              "      <td>Yes</td>\n",
              "      <td>193</td>\n",
              "      <td>146</td>\n",
              "      <td>55</td>\n",
              "      <td>16</td>\n",
              "      <td>44</td>\n",
              "      <td>249</td>\n",
              "      <td>869</td>\n",
              "      <td>7560</td>\n",
              "      <td>4120</td>\n",
              "      <td>800</td>\n",
              "      <td>1500</td>\n",
              "      <td>76</td>\n",
              "      <td>72</td>\n",
              "      <td>11.9</td>\n",
              "      <td>2</td>\n",
              "      <td>10922</td>\n",
              "      <td>15</td>\n",
              "      <td>0</td>\n",
              "    </tr>\n",
              "  </tbody>\n",
              "</table>\n",
              "</div>"
            ],
            "text/plain": [
              "                             Private  Apps  Accept  Enroll  Top10perc  \\\n",
              "College                                                                 \n",
              "Abilene Christian University     Yes  1660    1232     721         23   \n",
              "Adelphi University               Yes  2186    1924     512         16   \n",
              "Adrian College                   Yes  1428    1097     336         22   \n",
              "Agnes Scott College              Yes   417     349     137         60   \n",
              "Alaska Pacific University        Yes   193     146      55         16   \n",
              "\n",
              "                              Top25perc  F.Undergrad  P.Undergrad  Outstate  \\\n",
              "College                                                                       \n",
              "Abilene Christian University         52         2885          537      7440   \n",
              "Adelphi University                   29         2683         1227     12280   \n",
              "Adrian College                       50         1036           99     11250   \n",
              "Agnes Scott College                  89          510           63     12960   \n",
              "Alaska Pacific University            44          249          869      7560   \n",
              "\n",
              "                              Room.Board  Books  Personal  PhD  Terminal  \\\n",
              "College                                                                    \n",
              "Abilene Christian University        3300    450      2200   70        78   \n",
              "Adelphi University                  6450    750      1500   29        30   \n",
              "Adrian College                      3750    400      1165   53        66   \n",
              "Agnes Scott College                 5450    450       875   92        97   \n",
              "Alaska Pacific University           4120    800      1500   76        72   \n",
              "\n",
              "                              S.F.Ratio  perc.alumni  Expend  Grad.Rate  \\\n",
              "College                                                                   \n",
              "Abilene Christian University       18.1           12    7041         60   \n",
              "Adelphi University                 12.2           16   10527         56   \n",
              "Adrian College                     12.9           30    8735         54   \n",
              "Agnes Scott College                 7.7           37   19016         59   \n",
              "Alaska Pacific University          11.9            2   10922         15   \n",
              "\n",
              "                              Good School  \n",
              "College                                    \n",
              "Abilene Christian University            0  \n",
              "Adelphi University                      0  \n",
              "Adrian College                          0  \n",
              "Agnes Scott College                     1  \n",
              "Alaska Pacific University               0  "
            ]
          },
          "execution_count": 4,
          "metadata": {},
          "output_type": "execute_result"
        }
      ],
      "source": [
        "# Escreva sua resposta aqui\n",
        "\n",
        "read_csv['Good School'] = read_csv['Top10perc'].apply(lambda x: 1 if x > 25 else 0)\n",
        "\n",
        "read_csv.head()"
      ]
    },
    {
      "cell_type": "markdown",
      "metadata": {
        "id": "VUpTP_9Syp3A"
      },
      "source": [
        "Nesse momento, seu *Data Frame* deve estar organizado da seguinte maneira."
      ]
    },
    {
      "cell_type": "markdown",
      "metadata": {
        "id": "HL79lSQnubdt"
      },
      "source": [
        "![image.png](data:image/png;base64,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)"
      ]
    },
    {
      "cell_type": "markdown",
      "metadata": {
        "id": "BhKBExzI2H5j"
      },
      "source": [
        "### Item 1.5"
      ]
    },
    {
      "cell_type": "markdown",
      "metadata": {
        "id": "nQOPv-OTzmlI"
      },
      "source": [
        "Faça uma cópia da coluna ``Good School`` do *Data Frame* para uma variável como nome `y`."
      ]
    },
    {
      "cell_type": "code",
      "execution_count": 5,
      "metadata": {
        "id": "otAGho-Hzzhg"
      },
      "outputs": [
        {
          "data": {
            "text/plain": [
              "College\n",
              "Abilene Christian University    0\n",
              "Adelphi University              0\n",
              "Adrian College                  0\n",
              "Agnes Scott College             1\n",
              "Alaska Pacific University       0\n",
              "Name: Good School, dtype: int64"
            ]
          },
          "execution_count": 5,
          "metadata": {},
          "output_type": "execute_result"
        }
      ],
      "source": [
        "# Escreva sua resposta aqui\n",
        "\n",
        "y = read_csv['Good School'].copy()\n",
        "\n",
        "y.head()\n",
        "\n"
      ]
    },
    {
      "cell_type": "markdown",
      "metadata": {
        "id": "-BI1dBoL2KYb"
      },
      "source": [
        "### Item 1.6"
      ]
    },
    {
      "cell_type": "markdown",
      "metadata": {
        "id": "J_hGlhgJzHzA"
      },
      "source": [
        "Remova as colunas ``Top10perc``, ``Top25perc`` e ``Good School`` do *Data Frame*.\n",
        "\n",
        "**Dica:** leia sobre a função [``drop``](https://pandas.pydata.org/docs/reference/api/pandas.DataFrame.drop.html)."
      ]
    },
    {
      "cell_type": "code",
      "execution_count": 6,
      "metadata": {
        "id": "V1XjUzx-fnVh"
      },
      "outputs": [
        {
          "data": {
            "text/html": [
              "<div>\n",
              "<style scoped>\n",
              "    .dataframe tbody tr th:only-of-type {\n",
              "        vertical-align: middle;\n",
              "    }\n",
              "\n",
              "    .dataframe tbody tr th {\n",
              "        vertical-align: top;\n",
              "    }\n",
              "\n",
              "    .dataframe thead th {\n",
              "        text-align: right;\n",
              "    }\n",
              "</style>\n",
              "<table border=\"1\" class=\"dataframe\">\n",
              "  <thead>\n",
              "    <tr style=\"text-align: right;\">\n",
              "      <th></th>\n",
              "      <th>Private</th>\n",
              "      <th>Apps</th>\n",
              "      <th>Accept</th>\n",
              "      <th>Enroll</th>\n",
              "      <th>F.Undergrad</th>\n",
              "      <th>P.Undergrad</th>\n",
              "      <th>Outstate</th>\n",
              "      <th>Room.Board</th>\n",
              "      <th>Books</th>\n",
              "      <th>Personal</th>\n",
              "      <th>PhD</th>\n",
              "      <th>Terminal</th>\n",
              "      <th>S.F.Ratio</th>\n",
              "      <th>perc.alumni</th>\n",
              "      <th>Expend</th>\n",
              "      <th>Grad.Rate</th>\n",
              "    </tr>\n",
              "    <tr>\n",
              "      <th>College</th>\n",
              "      <th></th>\n",
              "      <th></th>\n",
              "      <th></th>\n",
              "      <th></th>\n",
              "      <th></th>\n",
              "      <th></th>\n",
              "      <th></th>\n",
              "      <th></th>\n",
              "      <th></th>\n",
              "      <th></th>\n",
              "      <th></th>\n",
              "      <th></th>\n",
              "      <th></th>\n",
              "      <th></th>\n",
              "      <th></th>\n",
              "      <th></th>\n",
              "    </tr>\n",
              "  </thead>\n",
              "  <tbody>\n",
              "    <tr>\n",
              "      <th>Abilene Christian University</th>\n",
              "      <td>Yes</td>\n",
              "      <td>1660</td>\n",
              "      <td>1232</td>\n",
              "      <td>721</td>\n",
              "      <td>2885</td>\n",
              "      <td>537</td>\n",
              "      <td>7440</td>\n",
              "      <td>3300</td>\n",
              "      <td>450</td>\n",
              "      <td>2200</td>\n",
              "      <td>70</td>\n",
              "      <td>78</td>\n",
              "      <td>18.1</td>\n",
              "      <td>12</td>\n",
              "      <td>7041</td>\n",
              "      <td>60</td>\n",
              "    </tr>\n",
              "    <tr>\n",
              "      <th>Adelphi University</th>\n",
              "      <td>Yes</td>\n",
              "      <td>2186</td>\n",
              "      <td>1924</td>\n",
              "      <td>512</td>\n",
              "      <td>2683</td>\n",
              "      <td>1227</td>\n",
              "      <td>12280</td>\n",
              "      <td>6450</td>\n",
              "      <td>750</td>\n",
              "      <td>1500</td>\n",
              "      <td>29</td>\n",
              "      <td>30</td>\n",
              "      <td>12.2</td>\n",
              "      <td>16</td>\n",
              "      <td>10527</td>\n",
              "      <td>56</td>\n",
              "    </tr>\n",
              "    <tr>\n",
              "      <th>Adrian College</th>\n",
              "      <td>Yes</td>\n",
              "      <td>1428</td>\n",
              "      <td>1097</td>\n",
              "      <td>336</td>\n",
              "      <td>1036</td>\n",
              "      <td>99</td>\n",
              "      <td>11250</td>\n",
              "      <td>3750</td>\n",
              "      <td>400</td>\n",
              "      <td>1165</td>\n",
              "      <td>53</td>\n",
              "      <td>66</td>\n",
              "      <td>12.9</td>\n",
              "      <td>30</td>\n",
              "      <td>8735</td>\n",
              "      <td>54</td>\n",
              "    </tr>\n",
              "    <tr>\n",
              "      <th>Agnes Scott College</th>\n",
              "      <td>Yes</td>\n",
              "      <td>417</td>\n",
              "      <td>349</td>\n",
              "      <td>137</td>\n",
              "      <td>510</td>\n",
              "      <td>63</td>\n",
              "      <td>12960</td>\n",
              "      <td>5450</td>\n",
              "      <td>450</td>\n",
              "      <td>875</td>\n",
              "      <td>92</td>\n",
              "      <td>97</td>\n",
              "      <td>7.7</td>\n",
              "      <td>37</td>\n",
              "      <td>19016</td>\n",
              "      <td>59</td>\n",
              "    </tr>\n",
              "    <tr>\n",
              "      <th>Alaska Pacific University</th>\n",
              "      <td>Yes</td>\n",
              "      <td>193</td>\n",
              "      <td>146</td>\n",
              "      <td>55</td>\n",
              "      <td>249</td>\n",
              "      <td>869</td>\n",
              "      <td>7560</td>\n",
              "      <td>4120</td>\n",
              "      <td>800</td>\n",
              "      <td>1500</td>\n",
              "      <td>76</td>\n",
              "      <td>72</td>\n",
              "      <td>11.9</td>\n",
              "      <td>2</td>\n",
              "      <td>10922</td>\n",
              "      <td>15</td>\n",
              "    </tr>\n",
              "  </tbody>\n",
              "</table>\n",
              "</div>"
            ],
            "text/plain": [
              "                             Private  Apps  Accept  Enroll  F.Undergrad  \\\n",
              "College                                                                   \n",
              "Abilene Christian University     Yes  1660    1232     721         2885   \n",
              "Adelphi University               Yes  2186    1924     512         2683   \n",
              "Adrian College                   Yes  1428    1097     336         1036   \n",
              "Agnes Scott College              Yes   417     349     137          510   \n",
              "Alaska Pacific University        Yes   193     146      55          249   \n",
              "\n",
              "                              P.Undergrad  Outstate  Room.Board  Books  \\\n",
              "College                                                                  \n",
              "Abilene Christian University          537      7440        3300    450   \n",
              "Adelphi University                   1227     12280        6450    750   \n",
              "Adrian College                         99     11250        3750    400   \n",
              "Agnes Scott College                    63     12960        5450    450   \n",
              "Alaska Pacific University             869      7560        4120    800   \n",
              "\n",
              "                              Personal  PhD  Terminal  S.F.Ratio  perc.alumni  \\\n",
              "College                                                                         \n",
              "Abilene Christian University      2200   70        78       18.1           12   \n",
              "Adelphi University                1500   29        30       12.2           16   \n",
              "Adrian College                    1165   53        66       12.9           30   \n",
              "Agnes Scott College                875   92        97        7.7           37   \n",
              "Alaska Pacific University         1500   76        72       11.9            2   \n",
              "\n",
              "                              Expend  Grad.Rate  \n",
              "College                                          \n",
              "Abilene Christian University    7041         60  \n",
              "Adelphi University             10527         56  \n",
              "Adrian College                  8735         54  \n",
              "Agnes Scott College            19016         59  \n",
              "Alaska Pacific University      10922         15  "
            ]
          },
          "execution_count": 6,
          "metadata": {},
          "output_type": "execute_result"
        }
      ],
      "source": [
        "# Escreva sua resposta aqui\n",
        "\n",
        "read_csv.drop(columns = ['Top10perc', 'Top25perc', 'Good School'], inplace = True)\n",
        "\n",
        "read_csv.head()\n"
      ]
    },
    {
      "cell_type": "markdown",
      "metadata": {
        "id": "UuE5t8412N7b"
      },
      "source": [
        "### Item 1.7"
      ]
    },
    {
      "cell_type": "markdown",
      "metadata": {
        "id": "Gs68qvWz0Mkx"
      },
      "source": [
        "Renomeie os valores da coluna ``Private``. Substitua `Yes` por 1 e `No` por 0."
      ]
    },
    {
      "cell_type": "code",
      "execution_count": 7,
      "metadata": {
        "id": "kUJz0tmZg9Xd"
      },
      "outputs": [
        {
          "data": {
            "text/html": [
              "<div>\n",
              "<style scoped>\n",
              "    .dataframe tbody tr th:only-of-type {\n",
              "        vertical-align: middle;\n",
              "    }\n",
              "\n",
              "    .dataframe tbody tr th {\n",
              "        vertical-align: top;\n",
              "    }\n",
              "\n",
              "    .dataframe thead th {\n",
              "        text-align: right;\n",
              "    }\n",
              "</style>\n",
              "<table border=\"1\" class=\"dataframe\">\n",
              "  <thead>\n",
              "    <tr style=\"text-align: right;\">\n",
              "      <th></th>\n",
              "      <th>Private</th>\n",
              "      <th>Apps</th>\n",
              "      <th>Accept</th>\n",
              "      <th>Enroll</th>\n",
              "      <th>F.Undergrad</th>\n",
              "      <th>P.Undergrad</th>\n",
              "      <th>Outstate</th>\n",
              "      <th>Room.Board</th>\n",
              "      <th>Books</th>\n",
              "      <th>Personal</th>\n",
              "      <th>PhD</th>\n",
              "      <th>Terminal</th>\n",
              "      <th>S.F.Ratio</th>\n",
              "      <th>perc.alumni</th>\n",
              "      <th>Expend</th>\n",
              "      <th>Grad.Rate</th>\n",
              "    </tr>\n",
              "    <tr>\n",
              "      <th>College</th>\n",
              "      <th></th>\n",
              "      <th></th>\n",
              "      <th></th>\n",
              "      <th></th>\n",
              "      <th></th>\n",
              "      <th></th>\n",
              "      <th></th>\n",
              "      <th></th>\n",
              "      <th></th>\n",
              "      <th></th>\n",
              "      <th></th>\n",
              "      <th></th>\n",
              "      <th></th>\n",
              "      <th></th>\n",
              "      <th></th>\n",
              "      <th></th>\n",
              "    </tr>\n",
              "  </thead>\n",
              "  <tbody>\n",
              "    <tr>\n",
              "      <th>Abilene Christian University</th>\n",
              "      <td>1</td>\n",
              "      <td>1660</td>\n",
              "      <td>1232</td>\n",
              "      <td>721</td>\n",
              "      <td>2885</td>\n",
              "      <td>537</td>\n",
              "      <td>7440</td>\n",
              "      <td>3300</td>\n",
              "      <td>450</td>\n",
              "      <td>2200</td>\n",
              "      <td>70</td>\n",
              "      <td>78</td>\n",
              "      <td>18.1</td>\n",
              "      <td>12</td>\n",
              "      <td>7041</td>\n",
              "      <td>60</td>\n",
              "    </tr>\n",
              "    <tr>\n",
              "      <th>Adelphi University</th>\n",
              "      <td>1</td>\n",
              "      <td>2186</td>\n",
              "      <td>1924</td>\n",
              "      <td>512</td>\n",
              "      <td>2683</td>\n",
              "      <td>1227</td>\n",
              "      <td>12280</td>\n",
              "      <td>6450</td>\n",
              "      <td>750</td>\n",
              "      <td>1500</td>\n",
              "      <td>29</td>\n",
              "      <td>30</td>\n",
              "      <td>12.2</td>\n",
              "      <td>16</td>\n",
              "      <td>10527</td>\n",
              "      <td>56</td>\n",
              "    </tr>\n",
              "    <tr>\n",
              "      <th>Adrian College</th>\n",
              "      <td>1</td>\n",
              "      <td>1428</td>\n",
              "      <td>1097</td>\n",
              "      <td>336</td>\n",
              "      <td>1036</td>\n",
              "      <td>99</td>\n",
              "      <td>11250</td>\n",
              "      <td>3750</td>\n",
              "      <td>400</td>\n",
              "      <td>1165</td>\n",
              "      <td>53</td>\n",
              "      <td>66</td>\n",
              "      <td>12.9</td>\n",
              "      <td>30</td>\n",
              "      <td>8735</td>\n",
              "      <td>54</td>\n",
              "    </tr>\n",
              "    <tr>\n",
              "      <th>Agnes Scott College</th>\n",
              "      <td>1</td>\n",
              "      <td>417</td>\n",
              "      <td>349</td>\n",
              "      <td>137</td>\n",
              "      <td>510</td>\n",
              "      <td>63</td>\n",
              "      <td>12960</td>\n",
              "      <td>5450</td>\n",
              "      <td>450</td>\n",
              "      <td>875</td>\n",
              "      <td>92</td>\n",
              "      <td>97</td>\n",
              "      <td>7.7</td>\n",
              "      <td>37</td>\n",
              "      <td>19016</td>\n",
              "      <td>59</td>\n",
              "    </tr>\n",
              "    <tr>\n",
              "      <th>Alaska Pacific University</th>\n",
              "      <td>1</td>\n",
              "      <td>193</td>\n",
              "      <td>146</td>\n",
              "      <td>55</td>\n",
              "      <td>249</td>\n",
              "      <td>869</td>\n",
              "      <td>7560</td>\n",
              "      <td>4120</td>\n",
              "      <td>800</td>\n",
              "      <td>1500</td>\n",
              "      <td>76</td>\n",
              "      <td>72</td>\n",
              "      <td>11.9</td>\n",
              "      <td>2</td>\n",
              "      <td>10922</td>\n",
              "      <td>15</td>\n",
              "    </tr>\n",
              "  </tbody>\n",
              "</table>\n",
              "</div>"
            ],
            "text/plain": [
              "                              Private  Apps  Accept  Enroll  F.Undergrad  \\\n",
              "College                                                                    \n",
              "Abilene Christian University        1  1660    1232     721         2885   \n",
              "Adelphi University                  1  2186    1924     512         2683   \n",
              "Adrian College                      1  1428    1097     336         1036   \n",
              "Agnes Scott College                 1   417     349     137          510   \n",
              "Alaska Pacific University           1   193     146      55          249   \n",
              "\n",
              "                              P.Undergrad  Outstate  Room.Board  Books  \\\n",
              "College                                                                  \n",
              "Abilene Christian University          537      7440        3300    450   \n",
              "Adelphi University                   1227     12280        6450    750   \n",
              "Adrian College                         99     11250        3750    400   \n",
              "Agnes Scott College                    63     12960        5450    450   \n",
              "Alaska Pacific University             869      7560        4120    800   \n",
              "\n",
              "                              Personal  PhD  Terminal  S.F.Ratio  perc.alumni  \\\n",
              "College                                                                         \n",
              "Abilene Christian University      2200   70        78       18.1           12   \n",
              "Adelphi University                1500   29        30       12.2           16   \n",
              "Adrian College                    1165   53        66       12.9           30   \n",
              "Agnes Scott College                875   92        97        7.7           37   \n",
              "Alaska Pacific University         1500   76        72       11.9            2   \n",
              "\n",
              "                              Expend  Grad.Rate  \n",
              "College                                          \n",
              "Abilene Christian University    7041         60  \n",
              "Adelphi University             10527         56  \n",
              "Adrian College                  8735         54  \n",
              "Agnes Scott College            19016         59  \n",
              "Alaska Pacific University      10922         15  "
            ]
          },
          "execution_count": 7,
          "metadata": {},
          "output_type": "execute_result"
        }
      ],
      "source": [
        "# Escreva sua resposta aqui\n",
        "read_csv['Private'] = read_csv['Private'].apply(lambda x: 1 if x == 'Yes' else 0)\n",
        "\n",
        "read_csv.head()\n"
      ]
    },
    {
      "cell_type": "markdown",
      "metadata": {
        "id": "AaKff89X0uI_"
      },
      "source": [
        "Nesse momento, seu *Data Frame* deve estar como segue:"
      ]
    },
    {
      "cell_type": "markdown",
      "metadata": {
        "id": "7ZLxD8jUuixG"
      },
      "source": [
        "![image.png](data:image/png;base64,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)"
      ]
    },
    {
      "cell_type": "markdown",
      "metadata": {
        "id": "riG5n3Fk01Kh"
      },
      "source": [
        "## Parte 2: Tarefa de Predição [45 pontos - Todos os itens têm o mesmo valor]"
      ]
    },
    {
      "cell_type": "markdown",
      "metadata": {
        "id": "txqzVIeX2qCc"
      },
      "source": [
        "A tarefa de predição será prever a variável `y` em função dos dados contidos no *Data Frame* resultante na Parte 1.\n",
        "\n",
        "Ou seja, o objetivo é criar um modelo para classificar se uma instituição de ensino é uma `Good School` ou não."
      ]
    },
    {
      "cell_type": "markdown",
      "metadata": {
        "id": "5rGC4DU79iT5"
      },
      "source": [
        "### Item 2.1"
      ]
    },
    {
      "cell_type": "markdown",
      "metadata": {
        "id": "khWR1AG89lMs"
      },
      "source": [
        "Divida o conjunto de dados em porções distintas para treinamento e avaliação do classificador.\n",
        "\n",
        "25% do conjunto de dados deve ser retido para testes.\n",
        "\n",
        "Para isso, use a função ``train_test_split``, vista nas últimas aulas. O argumento ``random_state`` não deve ser fornecido."
      ]
    },
    {
      "cell_type": "code",
      "execution_count": 8,
      "metadata": {
        "id": "-0Rb33M7hPBV"
      },
      "outputs": [
        {
          "data": {
            "text/plain": [
              "((582, 16), (195, 16))"
            ]
          },
          "execution_count": 8,
          "metadata": {},
          "output_type": "execute_result"
        }
      ],
      "source": [
        "# Escreva sua resposta aqui\n",
        "from sklearn.model_selection import train_test_split\n",
        "\n",
        "X_train, X_test, y_train, y_test = train_test_split(read_csv, y, test_size = 0.25)\n",
        "\n",
        "X_train.shape, X_test.shape\n",
        "\n"
      ]
    },
    {
      "cell_type": "markdown",
      "metadata": {
        "id": "g0TDfa-K-1BO"
      },
      "source": [
        "### Item 2.2"
      ]
    },
    {
      "cell_type": "markdown",
      "metadata": {
        "id": "3wq5Ecss-61T"
      },
      "source": [
        "Treine um *scaler* para aplicar a transformação por reescala nos dados.\n",
        "\n",
        "A transformação deve ser ajustada apenas no conjunto de treinamento.\n",
        "\n",
        "A transformação deve ser tal que as colunas do conjunto de dados serão reajustadas para assumirem valores no intervalo [0, 1].\n",
        "\n",
        "Após o ajuste do *scaler*, aplique a transformação no conjunto de treinamento."
      ]
    },
    {
      "cell_type": "code",
      "execution_count": 9,
      "metadata": {
        "id": "k3xtt3vvnhma"
      },
      "outputs": [
        {
          "data": {
            "text/plain": [
              "array([[1.        , 0.03492804, 0.05381217, 0.06040585, 0.06037329,\n",
              "        0.00792306, 0.50103306, 0.36569987, 0.22459893, 0.12977099,\n",
              "        0.91304348, 0.94736842, 0.28686327, 0.28333333, 0.10772112,\n",
              "        0.57407407],\n",
              "       [1.        , 0.03809385, 0.04981339, 0.06732736, 0.05002539,\n",
              "        0.00480879, 0.55216942, 0.64312736, 0.18003565, 0.07633588,\n",
              "        0.77173913, 0.84210526, 0.32171582, 0.56666667, 0.1290951 ,\n",
              "        0.68518519],\n",
              "       [1.        , 0.02553475, 0.03876914, 0.09139531, 0.0652933 ,\n",
              "        0.00370964, 0.25847107, 0.41456494, 0.21122995, 0.11450382,\n",
              "        0.45652174, 0.36842105, 0.34316354, 0.56666667, 0.0668079 ,\n",
              "        0.5       ],\n",
              "       [1.        , 0.02780497, 0.03591286, 0.06009124, 0.03761427,\n",
              "        0.00531257, 0.57644628, 0.63366961, 0.21791444, 0.22137405,\n",
              "        0.64130435, 0.71052632, 0.28686327, 0.38333333, 0.1066997 ,\n",
              "        0.60185185],\n",
              "       [1.        , 0.01780768, 0.02749638, 0.02548372, 0.01945785,\n",
              "        0.00957179, 0.45971074, 0.37831021, 0.11319073, 0.26717557,\n",
              "        0.68478261, 0.61842105, 0.23324397, 0.61666667, 0.12673073,\n",
              "        0.56481481]])"
            ]
          },
          "execution_count": 9,
          "metadata": {},
          "output_type": "execute_result"
        }
      ],
      "source": [
        "# Escreva sua resposta aqui\n",
        "from sklearn.preprocessing import MinMaxScaler\n",
        "\n",
        "scaler = MinMaxScaler()\n",
        "\n",
        "scaler.fit(X_train)\n",
        "\n",
        "X_train_scaled = scaler.transform(X_train)\n",
        "\n",
        "X_train_scaled[:5]"
      ]
    },
    {
      "cell_type": "markdown",
      "metadata": {
        "id": "RrM-_hZz_6OE"
      },
      "source": [
        "### Item 2.3"
      ]
    },
    {
      "cell_type": "markdown",
      "metadata": {
        "id": "Zpr9EJFGAMmn"
      },
      "source": [
        "Ajuste um KNN (com $k = 10$) aos dados de treinamento transformados."
      ]
    },
    {
      "cell_type": "code",
      "execution_count": 10,
      "metadata": {
        "id": "wANdD_z7_45u"
      },
      "outputs": [
        {
          "data": {
            "text/html": [
              "<style>#sk-container-id-1 {\n",
              "  /* Definition of color scheme common for light and dark mode */\n",
              "  --sklearn-color-text: black;\n",
              "  --sklearn-color-line: gray;\n",
              "  /* Definition of color scheme for unfitted estimators */\n",
              "  --sklearn-color-unfitted-level-0: #fff5e6;\n",
              "  --sklearn-color-unfitted-level-1: #f6e4d2;\n",
              "  --sklearn-color-unfitted-level-2: #ffe0b3;\n",
              "  --sklearn-color-unfitted-level-3: chocolate;\n",
              "  /* Definition of color scheme for fitted estimators */\n",
              "  --sklearn-color-fitted-level-0: #f0f8ff;\n",
              "  --sklearn-color-fitted-level-1: #d4ebff;\n",
              "  --sklearn-color-fitted-level-2: #b3dbfd;\n",
              "  --sklearn-color-fitted-level-3: cornflowerblue;\n",
              "\n",
              "  /* Specific color for light theme */\n",
              "  --sklearn-color-text-on-default-background: var(--sg-text-color, var(--theme-code-foreground, var(--jp-content-font-color1, black)));\n",
              "  --sklearn-color-background: var(--sg-background-color, var(--theme-background, var(--jp-layout-color0, white)));\n",
              "  --sklearn-color-border-box: var(--sg-text-color, var(--theme-code-foreground, var(--jp-content-font-color1, black)));\n",
              "  --sklearn-color-icon: #696969;\n",
              "\n",
              "  @media (prefers-color-scheme: dark) {\n",
              "    /* Redefinition of color scheme for dark theme */\n",
              "    --sklearn-color-text-on-default-background: var(--sg-text-color, var(--theme-code-foreground, var(--jp-content-font-color1, white)));\n",
              "    --sklearn-color-background: var(--sg-background-color, var(--theme-background, var(--jp-layout-color0, #111)));\n",
              "    --sklearn-color-border-box: var(--sg-text-color, var(--theme-code-foreground, var(--jp-content-font-color1, white)));\n",
              "    --sklearn-color-icon: #878787;\n",
              "  }\n",
              "}\n",
              "\n",
              "#sk-container-id-1 {\n",
              "  color: var(--sklearn-color-text);\n",
              "}\n",
              "\n",
              "#sk-container-id-1 pre {\n",
              "  padding: 0;\n",
              "}\n",
              "\n",
              "#sk-container-id-1 input.sk-hidden--visually {\n",
              "  border: 0;\n",
              "  clip: rect(1px 1px 1px 1px);\n",
              "  clip: rect(1px, 1px, 1px, 1px);\n",
              "  height: 1px;\n",
              "  margin: -1px;\n",
              "  overflow: hidden;\n",
              "  padding: 0;\n",
              "  position: absolute;\n",
              "  width: 1px;\n",
              "}\n",
              "\n",
              "#sk-container-id-1 div.sk-dashed-wrapped {\n",
              "  border: 1px dashed var(--sklearn-color-line);\n",
              "  margin: 0 0.4em 0.5em 0.4em;\n",
              "  box-sizing: border-box;\n",
              "  padding-bottom: 0.4em;\n",
              "  background-color: var(--sklearn-color-background);\n",
              "}\n",
              "\n",
              "#sk-container-id-1 div.sk-container {\n",
              "  /* jupyter's `normalize.less` sets `[hidden] { display: none; }`\n",
              "     but bootstrap.min.css set `[hidden] { display: none !important; }`\n",
              "     so we also need the `!important` here to be able to override the\n",
              "     default hidden behavior on the sphinx rendered scikit-learn.org.\n",
              "     See: https://github.com/scikit-learn/scikit-learn/issues/21755 */\n",
              "  display: inline-block !important;\n",
              "  position: relative;\n",
              "}\n",
              "\n",
              "#sk-container-id-1 div.sk-text-repr-fallback {\n",
              "  display: none;\n",
              "}\n",
              "\n",
              "div.sk-parallel-item,\n",
              "div.sk-serial,\n",
              "div.sk-item {\n",
              "  /* draw centered vertical line to link estimators */\n",
              "  background-image: linear-gradient(var(--sklearn-color-text-on-default-background), var(--sklearn-color-text-on-default-background));\n",
              "  background-size: 2px 100%;\n",
              "  background-repeat: no-repeat;\n",
              "  background-position: center center;\n",
              "}\n",
              "\n",
              "/* Parallel-specific style estimator block */\n",
              "\n",
              "#sk-container-id-1 div.sk-parallel-item::after {\n",
              "  content: \"\";\n",
              "  width: 100%;\n",
              "  border-bottom: 2px solid var(--sklearn-color-text-on-default-background);\n",
              "  flex-grow: 1;\n",
              "}\n",
              "\n",
              "#sk-container-id-1 div.sk-parallel {\n",
              "  display: flex;\n",
              "  align-items: stretch;\n",
              "  justify-content: center;\n",
              "  background-color: var(--sklearn-color-background);\n",
              "  position: relative;\n",
              "}\n",
              "\n",
              "#sk-container-id-1 div.sk-parallel-item {\n",
              "  display: flex;\n",
              "  flex-direction: column;\n",
              "}\n",
              "\n",
              "#sk-container-id-1 div.sk-parallel-item:first-child::after {\n",
              "  align-self: flex-end;\n",
              "  width: 50%;\n",
              "}\n",
              "\n",
              "#sk-container-id-1 div.sk-parallel-item:last-child::after {\n",
              "  align-self: flex-start;\n",
              "  width: 50%;\n",
              "}\n",
              "\n",
              "#sk-container-id-1 div.sk-parallel-item:only-child::after {\n",
              "  width: 0;\n",
              "}\n",
              "\n",
              "/* Serial-specific style estimator block */\n",
              "\n",
              "#sk-container-id-1 div.sk-serial {\n",
              "  display: flex;\n",
              "  flex-direction: column;\n",
              "  align-items: center;\n",
              "  background-color: var(--sklearn-color-background);\n",
              "  padding-right: 1em;\n",
              "  padding-left: 1em;\n",
              "}\n",
              "\n",
              "\n",
              "/* Toggleable style: style used for estimator/Pipeline/ColumnTransformer box that is\n",
              "clickable and can be expanded/collapsed.\n",
              "- Pipeline and ColumnTransformer use this feature and define the default style\n",
              "- Estimators will overwrite some part of the style using the `sk-estimator` class\n",
              "*/\n",
              "\n",
              "/* Pipeline and ColumnTransformer style (default) */\n",
              "\n",
              "#sk-container-id-1 div.sk-toggleable {\n",
              "  /* Default theme specific background. It is overwritten whether we have a\n",
              "  specific estimator or a Pipeline/ColumnTransformer */\n",
              "  background-color: var(--sklearn-color-background);\n",
              "}\n",
              "\n",
              "/* Toggleable label */\n",
              "#sk-container-id-1 label.sk-toggleable__label {\n",
              "  cursor: pointer;\n",
              "  display: block;\n",
              "  width: 100%;\n",
              "  margin-bottom: 0;\n",
              "  padding: 0.5em;\n",
              "  box-sizing: border-box;\n",
              "  text-align: center;\n",
              "}\n",
              "\n",
              "#sk-container-id-1 label.sk-toggleable__label-arrow:before {\n",
              "  /* Arrow on the left of the label */\n",
              "  content: \"▸\";\n",
              "  float: left;\n",
              "  margin-right: 0.25em;\n",
              "  color: var(--sklearn-color-icon);\n",
              "}\n",
              "\n",
              "#sk-container-id-1 label.sk-toggleable__label-arrow:hover:before {\n",
              "  color: var(--sklearn-color-text);\n",
              "}\n",
              "\n",
              "/* Toggleable content - dropdown */\n",
              "\n",
              "#sk-container-id-1 div.sk-toggleable__content {\n",
              "  max-height: 0;\n",
              "  max-width: 0;\n",
              "  overflow: hidden;\n",
              "  text-align: left;\n",
              "  /* unfitted */\n",
              "  background-color: var(--sklearn-color-unfitted-level-0);\n",
              "}\n",
              "\n",
              "#sk-container-id-1 div.sk-toggleable__content.fitted {\n",
              "  /* fitted */\n",
              "  background-color: var(--sklearn-color-fitted-level-0);\n",
              "}\n",
              "\n",
              "#sk-container-id-1 div.sk-toggleable__content pre {\n",
              "  margin: 0.2em;\n",
              "  border-radius: 0.25em;\n",
              "  color: var(--sklearn-color-text);\n",
              "  /* unfitted */\n",
              "  background-color: var(--sklearn-color-unfitted-level-0);\n",
              "}\n",
              "\n",
              "#sk-container-id-1 div.sk-toggleable__content.fitted pre {\n",
              "  /* unfitted */\n",
              "  background-color: var(--sklearn-color-fitted-level-0);\n",
              "}\n",
              "\n",
              "#sk-container-id-1 input.sk-toggleable__control:checked~div.sk-toggleable__content {\n",
              "  /* Expand drop-down */\n",
              "  max-height: 200px;\n",
              "  max-width: 100%;\n",
              "  overflow: auto;\n",
              "}\n",
              "\n",
              "#sk-container-id-1 input.sk-toggleable__control:checked~label.sk-toggleable__label-arrow:before {\n",
              "  content: \"▾\";\n",
              "}\n",
              "\n",
              "/* Pipeline/ColumnTransformer-specific style */\n",
              "\n",
              "#sk-container-id-1 div.sk-label input.sk-toggleable__control:checked~label.sk-toggleable__label {\n",
              "  color: var(--sklearn-color-text);\n",
              "  background-color: var(--sklearn-color-unfitted-level-2);\n",
              "}\n",
              "\n",
              "#sk-container-id-1 div.sk-label.fitted input.sk-toggleable__control:checked~label.sk-toggleable__label {\n",
              "  background-color: var(--sklearn-color-fitted-level-2);\n",
              "}\n",
              "\n",
              "/* Estimator-specific style */\n",
              "\n",
              "/* Colorize estimator box */\n",
              "#sk-container-id-1 div.sk-estimator input.sk-toggleable__control:checked~label.sk-toggleable__label {\n",
              "  /* unfitted */\n",
              "  background-color: var(--sklearn-color-unfitted-level-2);\n",
              "}\n",
              "\n",
              "#sk-container-id-1 div.sk-estimator.fitted input.sk-toggleable__control:checked~label.sk-toggleable__label {\n",
              "  /* fitted */\n",
              "  background-color: var(--sklearn-color-fitted-level-2);\n",
              "}\n",
              "\n",
              "#sk-container-id-1 div.sk-label label.sk-toggleable__label,\n",
              "#sk-container-id-1 div.sk-label label {\n",
              "  /* The background is the default theme color */\n",
              "  color: var(--sklearn-color-text-on-default-background);\n",
              "}\n",
              "\n",
              "/* On hover, darken the color of the background */\n",
              "#sk-container-id-1 div.sk-label:hover label.sk-toggleable__label {\n",
              "  color: var(--sklearn-color-text);\n",
              "  background-color: var(--sklearn-color-unfitted-level-2);\n",
              "}\n",
              "\n",
              "/* Label box, darken color on hover, fitted */\n",
              "#sk-container-id-1 div.sk-label.fitted:hover label.sk-toggleable__label.fitted {\n",
              "  color: var(--sklearn-color-text);\n",
              "  background-color: var(--sklearn-color-fitted-level-2);\n",
              "}\n",
              "\n",
              "/* Estimator label */\n",
              "\n",
              "#sk-container-id-1 div.sk-label label {\n",
              "  font-family: monospace;\n",
              "  font-weight: bold;\n",
              "  display: inline-block;\n",
              "  line-height: 1.2em;\n",
              "}\n",
              "\n",
              "#sk-container-id-1 div.sk-label-container {\n",
              "  text-align: center;\n",
              "}\n",
              "\n",
              "/* Estimator-specific */\n",
              "#sk-container-id-1 div.sk-estimator {\n",
              "  font-family: monospace;\n",
              "  border: 1px dotted var(--sklearn-color-border-box);\n",
              "  border-radius: 0.25em;\n",
              "  box-sizing: border-box;\n",
              "  margin-bottom: 0.5em;\n",
              "  /* unfitted */\n",
              "  background-color: var(--sklearn-color-unfitted-level-0);\n",
              "}\n",
              "\n",
              "#sk-container-id-1 div.sk-estimator.fitted {\n",
              "  /* fitted */\n",
              "  background-color: var(--sklearn-color-fitted-level-0);\n",
              "}\n",
              "\n",
              "/* on hover */\n",
              "#sk-container-id-1 div.sk-estimator:hover {\n",
              "  /* unfitted */\n",
              "  background-color: var(--sklearn-color-unfitted-level-2);\n",
              "}\n",
              "\n",
              "#sk-container-id-1 div.sk-estimator.fitted:hover {\n",
              "  /* fitted */\n",
              "  background-color: var(--sklearn-color-fitted-level-2);\n",
              "}\n",
              "\n",
              "/* Specification for estimator info (e.g. \"i\" and \"?\") */\n",
              "\n",
              "/* Common style for \"i\" and \"?\" */\n",
              "\n",
              ".sk-estimator-doc-link,\n",
              "a:link.sk-estimator-doc-link,\n",
              "a:visited.sk-estimator-doc-link {\n",
              "  float: right;\n",
              "  font-size: smaller;\n",
              "  line-height: 1em;\n",
              "  font-family: monospace;\n",
              "  background-color: var(--sklearn-color-background);\n",
              "  border-radius: 1em;\n",
              "  height: 1em;\n",
              "  width: 1em;\n",
              "  text-decoration: none !important;\n",
              "  margin-left: 1ex;\n",
              "  /* unfitted */\n",
              "  border: var(--sklearn-color-unfitted-level-1) 1pt solid;\n",
              "  color: var(--sklearn-color-unfitted-level-1);\n",
              "}\n",
              "\n",
              ".sk-estimator-doc-link.fitted,\n",
              "a:link.sk-estimator-doc-link.fitted,\n",
              "a:visited.sk-estimator-doc-link.fitted {\n",
              "  /* fitted */\n",
              "  border: var(--sklearn-color-fitted-level-1) 1pt solid;\n",
              "  color: var(--sklearn-color-fitted-level-1);\n",
              "}\n",
              "\n",
              "/* On hover */\n",
              "div.sk-estimator:hover .sk-estimator-doc-link:hover,\n",
              ".sk-estimator-doc-link:hover,\n",
              "div.sk-label-container:hover .sk-estimator-doc-link:hover,\n",
              ".sk-estimator-doc-link:hover {\n",
              "  /* unfitted */\n",
              "  background-color: var(--sklearn-color-unfitted-level-3);\n",
              "  color: var(--sklearn-color-background);\n",
              "  text-decoration: none;\n",
              "}\n",
              "\n",
              "div.sk-estimator.fitted:hover .sk-estimator-doc-link.fitted:hover,\n",
              ".sk-estimator-doc-link.fitted:hover,\n",
              "div.sk-label-container:hover .sk-estimator-doc-link.fitted:hover,\n",
              ".sk-estimator-doc-link.fitted:hover {\n",
              "  /* fitted */\n",
              "  background-color: var(--sklearn-color-fitted-level-3);\n",
              "  color: var(--sklearn-color-background);\n",
              "  text-decoration: none;\n",
              "}\n",
              "\n",
              "/* Span, style for the box shown on hovering the info icon */\n",
              ".sk-estimator-doc-link span {\n",
              "  display: none;\n",
              "  z-index: 9999;\n",
              "  position: relative;\n",
              "  font-weight: normal;\n",
              "  right: .2ex;\n",
              "  padding: .5ex;\n",
              "  margin: .5ex;\n",
              "  width: min-content;\n",
              "  min-width: 20ex;\n",
              "  max-width: 50ex;\n",
              "  color: var(--sklearn-color-text);\n",
              "  box-shadow: 2pt 2pt 4pt #999;\n",
              "  /* unfitted */\n",
              "  background: var(--sklearn-color-unfitted-level-0);\n",
              "  border: .5pt solid var(--sklearn-color-unfitted-level-3);\n",
              "}\n",
              "\n",
              ".sk-estimator-doc-link.fitted span {\n",
              "  /* fitted */\n",
              "  background: var(--sklearn-color-fitted-level-0);\n",
              "  border: var(--sklearn-color-fitted-level-3);\n",
              "}\n",
              "\n",
              ".sk-estimator-doc-link:hover span {\n",
              "  display: block;\n",
              "}\n",
              "\n",
              "/* \"?\"-specific style due to the `<a>` HTML tag */\n",
              "\n",
              "#sk-container-id-1 a.estimator_doc_link {\n",
              "  float: right;\n",
              "  font-size: 1rem;\n",
              "  line-height: 1em;\n",
              "  font-family: monospace;\n",
              "  background-color: var(--sklearn-color-background);\n",
              "  border-radius: 1rem;\n",
              "  height: 1rem;\n",
              "  width: 1rem;\n",
              "  text-decoration: none;\n",
              "  /* unfitted */\n",
              "  color: var(--sklearn-color-unfitted-level-1);\n",
              "  border: var(--sklearn-color-unfitted-level-1) 1pt solid;\n",
              "}\n",
              "\n",
              "#sk-container-id-1 a.estimator_doc_link.fitted {\n",
              "  /* fitted */\n",
              "  border: var(--sklearn-color-fitted-level-1) 1pt solid;\n",
              "  color: var(--sklearn-color-fitted-level-1);\n",
              "}\n",
              "\n",
              "/* On hover */\n",
              "#sk-container-id-1 a.estimator_doc_link:hover {\n",
              "  /* unfitted */\n",
              "  background-color: var(--sklearn-color-unfitted-level-3);\n",
              "  color: var(--sklearn-color-background);\n",
              "  text-decoration: none;\n",
              "}\n",
              "\n",
              "#sk-container-id-1 a.estimator_doc_link.fitted:hover {\n",
              "  /* fitted */\n",
              "  background-color: var(--sklearn-color-fitted-level-3);\n",
              "}\n",
              "</style><div id=\"sk-container-id-1\" class=\"sk-top-container\"><div class=\"sk-text-repr-fallback\"><pre>KNeighborsClassifier(n_neighbors=10)</pre><b>In a Jupyter environment, please rerun this cell to show the HTML representation or trust the notebook. <br />On GitHub, the HTML representation is unable to render, please try loading this page with nbviewer.org.</b></div><div class=\"sk-container\" hidden><div class=\"sk-item\"><div class=\"sk-estimator fitted sk-toggleable\"><input class=\"sk-toggleable__control sk-hidden--visually\" id=\"sk-estimator-id-1\" type=\"checkbox\" checked><label for=\"sk-estimator-id-1\" class=\"sk-toggleable__label fitted sk-toggleable__label-arrow fitted\">&nbsp;&nbsp;KNeighborsClassifier<a class=\"sk-estimator-doc-link fitted\" rel=\"noreferrer\" target=\"_blank\" href=\"https://scikit-learn.org/1.5/modules/generated/sklearn.neighbors.KNeighborsClassifier.html\">?<span>Documentation for KNeighborsClassifier</span></a><span class=\"sk-estimator-doc-link fitted\">i<span>Fitted</span></span></label><div class=\"sk-toggleable__content fitted\"><pre>KNeighborsClassifier(n_neighbors=10)</pre></div> </div></div></div></div>"
            ],
            "text/plain": [
              "KNeighborsClassifier(n_neighbors=10)"
            ]
          },
          "execution_count": 10,
          "metadata": {},
          "output_type": "execute_result"
        }
      ],
      "source": [
        "# Escreva sua resposta aqui\n",
        "from sklearn.neighbors import KNeighborsClassifier\n",
        "\n",
        "knn = KNeighborsClassifier(n_neighbors = 10)\n",
        "\n",
        "knn.fit(X_train_scaled, y_train)"
      ]
    },
    {
      "cell_type": "markdown",
      "metadata": {
        "id": "ee29Aby7AddX"
      },
      "source": [
        "### Item 2.4"
      ]
    },
    {
      "cell_type": "markdown",
      "metadata": {
        "id": "Uggb9xmgIzw5"
      },
      "source": [
        "Use o modelo treinado on item anterior para obter rótulos dos elementos do conjunto de teste.\n",
        "\n",
        "Lembre de aplicar a mesma transformação utilizada nos dados antes."
      ]
    },
    {
      "cell_type": "code",
      "execution_count": 11,
      "metadata": {
        "id": "ie8qXR5SJBY0"
      },
      "outputs": [
        {
          "data": {
            "text/plain": [
              "array([0, 0, 1, 0, 1])"
            ]
          },
          "execution_count": 11,
          "metadata": {},
          "output_type": "execute_result"
        }
      ],
      "source": [
        "# Escreva sua resposta aqui\n",
        "X_test_scaled = scaler.transform(X_test)\n",
        "\n",
        "y_pred = knn.predict(X_test_scaled)\n",
        "\n",
        "y_pred[:5]\n"
      ]
    },
    {
      "cell_type": "markdown",
      "metadata": {
        "id": "zWzUhCpjLPPH"
      },
      "source": [
        "### Item 2.5"
      ]
    },
    {
      "cell_type": "markdown",
      "metadata": {
        "id": "8_3_4ngkLTgB"
      },
      "source": [
        "Com base nos rótulos reais e rótulos preditos dos elementos do conjunto de teste, calcule a acurácia do classificador treinado."
      ]
    },
    {
      "cell_type": "code",
      "execution_count": 14,
      "metadata": {
        "id": "j7aqxODkh3Z2"
      },
      "outputs": [
        {
          "data": {
            "text/plain": [
              "0.7487179487179487"
            ]
          },
          "execution_count": 14,
          "metadata": {},
          "output_type": "execute_result"
        }
      ],
      "source": [
        "# Escreva sua resposta aqui\n",
        "from sklearn.metrics import accuracy_score\n",
        "\n",
        "accuracy = accuracy_score(y_test, y_pred)\n",
        "\n",
        "accuracy\n"
      ]
    },
    {
      "cell_type": "markdown",
      "metadata": {
        "id": "T8FTdzZgLile"
      },
      "source": [
        "### Item 2.6"
      ]
    },
    {
      "cell_type": "markdown",
      "metadata": {
        "id": "8gtpYf1MLq65"
      },
      "source": [
        "Calcule a proporção de elementos do conjunto de teste que possui rótulo 0 e a proporção que possui rótulo 1."
      ]
    },
    {
      "cell_type": "code",
      "execution_count": 15,
      "metadata": {
        "id": "BB7xXKYjML0b"
      },
      "outputs": [
        {
          "data": {
            "text/plain": [
              "Good School\n",
              "0    0.574359\n",
              "1    0.425641\n",
              "Name: proportion, dtype: float64"
            ]
          },
          "execution_count": 15,
          "metadata": {},
          "output_type": "execute_result"
        }
      ],
      "source": [
        "# Escreva sua resposta aqui\n",
        "y_test.value_counts(normalize = True)\n"
      ]
    },
    {
      "cell_type": "markdown",
      "metadata": {
        "id": "uIrhAAL5MeKN"
      },
      "source": [
        "### Item 2.7"
      ]
    },
    {
      "cell_type": "markdown",
      "metadata": {
        "id": "hNkjur7BMkVa"
      },
      "source": [
        "Com base nas respostas dos dois Itens anteriores, você diria que o classificador treinado é: **ruim**, **razoável** ou **bom**? Justifique brevemente sua resposta."
      ]
    },
    {
      "cell_type": "markdown",
      "metadata": {
        "id": "t304Px6kMzRL"
      },
      "source": [
        "**Escreva sua resposta aqui:** Na minha opinião, o classificador é bom, pois a acurácia é de 0.82 e a proporção de elementos do conjunto de teste que possui rótulo 0 e a proporção que possui rótulo 1 são muito próximas, o que indica que o classificador é bom em distinguir entre as duas classes."
      ]
    },
    {
      "cell_type": "markdown",
      "metadata": {
        "id": "JP0Dc0SR2hEM"
      },
      "source": [
        "## Parte 3: Utilizando a classe ``Pipeline`` [10 pontos]"
      ]
    },
    {
      "cell_type": "markdown",
      "metadata": {
        "id": "_HmDJoWINpc9"
      },
      "source": [
        "Leia sobre ``Pipeline`` da ``scikit-learn`` na documentação da [biblioteca](https://scikit-learn.org/stable/modules/generated/sklearn.pipeline.Pipeline.html).\n",
        "\n",
        "Veja que a classe permite agregar uma série de operações sobre um conjunto de dados, facilitando o processo de pré-processamento, treinamento e teste de um classificador."
      ]
    },
    {
      "cell_type": "markdown",
      "metadata": {
        "id": "KJKpD4tTOdfQ"
      },
      "source": [
        "Repita os Itens 2.2, 2.3, 2.4 e 2.5 (acima) utilizando as funcionalidades da classe ``Pipeline``.\n",
        "\n",
        "Você pode se basear nos exemplos da `scikit-learn` para realizar essa tarefa."
      ]
    },
    {
      "cell_type": "code",
      "execution_count": 16,
      "metadata": {
        "id": "mVtagOuriBUv"
      },
      "outputs": [
        {
          "data": {
            "text/plain": [
              "0.7487179487179487"
            ]
          },
          "execution_count": 16,
          "metadata": {},
          "output_type": "execute_result"
        }
      ],
      "source": [
        "# Escreva sua resposta aqui\n",
        "from sklearn.pipeline import Pipeline\n",
        "\n",
        "pipeline = Pipeline([\n",
        "    ('scaler', MinMaxScaler()),\n",
        "    ('knn', KNeighborsClassifier(n_neighbors = 10))\n",
        "])\n",
        "\n",
        "pipeline.fit(X_train, y_train)\n",
        "\n",
        "y_pred = pipeline.predict(X_test)\n",
        "\n",
        "accuracy = accuracy_score(y_test, y_pred)\n",
        "\n",
        "accuracy\n",
        "\n",
        "\n"
      ]
    }
  ],
  "metadata": {
    "colab": {
      "provenance": []
    },
    "kernelspec": {
      "display_name": "Python 3",
      "name": "python3"
    },
    "language_info": {
      "codemirror_mode": {
        "name": "ipython",
        "version": 3
      },
      "file_extension": ".py",
      "mimetype": "text/x-python",
      "name": "python",
      "nbconvert_exporter": "python",
      "pygments_lexer": "ipython3",
      "version": "3.11.9"
    }
  },
  "nbformat": 4,
  "nbformat_minor": 0
}
